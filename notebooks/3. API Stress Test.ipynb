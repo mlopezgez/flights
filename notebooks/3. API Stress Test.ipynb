{
 "cells": [
  {
   "cell_type": "code",
   "execution_count": 19,
   "id": "4e3ad9cb",
   "metadata": {},
   "outputs": [],
   "source": [
    "import json\n",
    "import time\n",
    "import requests\n",
    "import statistics\n",
    "\n",
    "from tqdm.notebook import tqdm\n",
    "\n",
    "def test_local():\n",
    "    url = \"http://localhost:8000/arrivals\"\n",
    "\n",
    "    payload = json.dumps({\n",
    "      \"airline_iata\": \"AV\",\n",
    "      \"iata_arrival\": \"BOG\",\n",
    "      \"flight_day\": 21,\n",
    "      \"flight_month\": 6,\n",
    "      \"flight_year\": 2023\n",
    "    })\n",
    "    headers = {\n",
    "      'Content-Type': 'application/json'\n",
    "    }\n",
    "\n",
    "    response = requests.request(\"POST\", url, headers=headers, data=payload)\n",
    "\n",
    "def test_api_gateway():\n",
    "    url = \"https://hthwg1sw6l.execute-api.us-east-1.amazonaws.com/dev/arrivals\"\n",
    "\n",
    "    payload = json.dumps({\n",
    "      \"airline_iata\": \"AV\",\n",
    "      \"iata_arrival\": \"BOG\",\n",
    "      \"flight_day\": 21,\n",
    "      \"flight_month\": 6,\n",
    "      \"flight_year\": 2023\n",
    "    })\n",
    "    headers = {\n",
    "      'Content-Type': 'application/json'\n",
    "    }\n",
    "\n",
    "    response = requests.request(\"POST\", url, headers=headers, data=payload)"
   ]
  },
  {
   "cell_type": "markdown",
   "id": "dd7b257d",
   "metadata": {},
   "source": [
    "### Test API Gateway"
   ]
  },
  {
   "cell_type": "code",
   "execution_count": 8,
   "id": "49a0e250",
   "metadata": {},
   "outputs": [
    {
     "data": {
      "application/vnd.jupyter.widget-view+json": {
       "model_id": "2523acb2e6314b749f12696d9f59a7c7",
       "version_major": 2,
       "version_minor": 0
      },
      "text/plain": [
       "  0%|          | 0/100 [00:00<?, ?it/s]"
      ]
     },
     "metadata": {},
     "output_type": "display_data"
    }
   ],
   "source": [
    "timing = []\n",
    "\n",
    "for _ in tqdm(range(0, 100)):\n",
    "    start_time = time.time()\n",
    "    test_api_gateway()\n",
    "    total_time = time.time() - start_time\n",
    "    \n",
    "    timing.append(total_time)"
   ]
  },
  {
   "cell_type": "code",
   "execution_count": 15,
   "id": "1d3b50d0",
   "metadata": {},
   "outputs": [
    {
     "name": "stdout",
     "output_type": "stream",
     "text": [
      "Execution Time (mean) 0.45601979732513426 seconds\n",
      "Execution Time (std) 0.18193211714030702 seconds\n"
     ]
    }
   ],
   "source": [
    "mean = statistics.mean(timing)\n",
    "std = statistics.stdev(timing)\n",
    "\n",
    "print(\"Execution Time (mean)\", mean, \"seconds\")\n",
    "print(\"Execution Time (std)\", std, \"seconds\")"
   ]
  },
  {
   "cell_type": "markdown",
   "id": "3bb805cc",
   "metadata": {},
   "source": [
    "### Test Local"
   ]
  },
  {
   "cell_type": "code",
   "execution_count": 22,
   "id": "0e3beb0a",
   "metadata": {},
   "outputs": [
    {
     "data": {
      "application/vnd.jupyter.widget-view+json": {
       "model_id": "0545dea94cd34c2fb897b6013bd15ae6",
       "version_major": 2,
       "version_minor": 0
      },
      "text/plain": [
       "  0%|          | 0/1000 [00:00<?, ?it/s]"
      ]
     },
     "metadata": {},
     "output_type": "display_data"
    }
   ],
   "source": [
    "timing = []\n",
    "\n",
    "for _ in tqdm(range(0, 1000)):\n",
    "    start_time = time.time()\n",
    "    test_local()\n",
    "    total_time = time.time() - start_time\n",
    "    \n",
    "    timing.append(total_time)"
   ]
  },
  {
   "cell_type": "code",
   "execution_count": 23,
   "id": "1a46965d",
   "metadata": {},
   "outputs": [
    {
     "name": "stdout",
     "output_type": "stream",
     "text": [
      "Execution Time (mean) 0.0040781240463256836 seconds\n",
      "Execution Time (std) 0.000897562750274419 seconds\n"
     ]
    }
   ],
   "source": [
    "mean = statistics.mean(timing)\n",
    "std = statistics.stdev(timing)\n",
    "\n",
    "print(\"Execution Time (mean)\", mean, \"seconds\")\n",
    "print(\"Execution Time (std)\", std, \"seconds\")"
   ]
  },
  {
   "cell_type": "code",
   "execution_count": null,
   "id": "c71f6cda",
   "metadata": {},
   "outputs": [],
   "source": []
  }
 ],
 "metadata": {
  "kernelspec": {
   "display_name": "Python 3 (ipykernel)",
   "language": "python",
   "name": "python3"
  },
  "language_info": {
   "codemirror_mode": {
    "name": "ipython",
    "version": 3
   },
   "file_extension": ".py",
   "mimetype": "text/x-python",
   "name": "python",
   "nbconvert_exporter": "python",
   "pygments_lexer": "ipython3",
   "version": "3.10.11"
  }
 },
 "nbformat": 4,
 "nbformat_minor": 5
}
